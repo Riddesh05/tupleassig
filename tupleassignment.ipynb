{
 "cells": [
  {
   "cell_type": "markdown",
   "id": "f018a6be",
   "metadata": {},
   "source": [
    "1)What is a tuple in Python?"
   ]
  },
  {
   "cell_type": "markdown",
   "id": "ad236aa9",
   "metadata": {},
   "source": [
    "A tuple in Python is an immutable ordered collection of elements. \n",
    "Immutable means that once a tuple is created,\n",
    "its elements cannot be changed or modified."
   ]
  },
  {
   "cell_type": "markdown",
   "id": "d295a56a",
   "metadata": {},
   "source": [
    "2)How do you create a tuple in Python?"
   ]
  },
  {
   "cell_type": "code",
   "execution_count": 2,
   "id": "8ab6b8f8",
   "metadata": {},
   "outputs": [],
   "source": [
    "my_tuple = (1, 2, 3, 4, 5)\n"
   ]
  },
  {
   "cell_type": "markdown",
   "id": "18c46281",
   "metadata": {},
   "source": [
    " 3)What is the difference between a tuple and a list in Python?"
   ]
  },
  {
   "cell_type": "markdown",
   "id": "7e74905d",
   "metadata": {},
   "source": [
    "The main difference between a tuple and a list in Python is that a tuple is immutable, whereas a list is mutable. This means that you can't change the elements of a tuple after it is created, whereas you can modify elements in a list."
   ]
  },
  {
   "cell_type": "markdown",
   "id": "544d968c",
   "metadata": {},
   "source": [
    "4)Can a tuple be changed in Python?"
   ]
  },
  {
   "cell_type": "markdown",
   "id": "1f35bcbd",
   "metadata": {},
   "source": [
    "No, a tuple cannot be changed in Python. Once a tuple is created, its elements cannot be modified, added, or removed."
   ]
  },
  {
   "cell_type": "markdown",
   "id": "c7b0039f",
   "metadata": {},
   "source": [
    "5)How do you access elements in a tuple?"
   ]
  },
  {
   "cell_type": "code",
   "execution_count": 3,
   "id": "8442cf74",
   "metadata": {},
   "outputs": [
    {
     "name": "stdout",
     "output_type": "stream",
     "text": [
      "1\n",
      "4\n"
     ]
    }
   ],
   "source": [
    "my_tuple = (1, 2, 3, 4, 5)\n",
    "print(my_tuple[0]) \n",
    "print(my_tuple[3])  \n"
   ]
  },
  {
   "cell_type": "markdown",
   "id": "e8c0f065",
   "metadata": {},
   "source": [
    "How do you unpack a tuple in Python?"
   ]
  },
  {
   "cell_type": "code",
   "execution_count": 4,
   "id": "62b87f77",
   "metadata": {},
   "outputs": [
    {
     "name": "stdout",
     "output_type": "stream",
     "text": [
      "1\n",
      "2\n",
      "3\n"
     ]
    }
   ],
   "source": [
    "my_tuple = (1, 2, 3)\n",
    "a, b, c = my_tuple\n",
    "print(a)  \n",
    "print(b) \n",
    "print(c) \n"
   ]
  },
  {
   "cell_type": "code",
   "execution_count": null,
   "id": "a09275c7",
   "metadata": {},
   "outputs": [],
   "source": []
  }
 ],
 "metadata": {
  "kernelspec": {
   "display_name": "Python 3 (ipykernel)",
   "language": "python",
   "name": "python3"
  },
  "language_info": {
   "codemirror_mode": {
    "name": "ipython",
    "version": 3
   },
   "file_extension": ".py",
   "mimetype": "text/x-python",
   "name": "python",
   "nbconvert_exporter": "python",
   "pygments_lexer": "ipython3",
   "version": "3.10.9"
  }
 },
 "nbformat": 4,
 "nbformat_minor": 5
}
